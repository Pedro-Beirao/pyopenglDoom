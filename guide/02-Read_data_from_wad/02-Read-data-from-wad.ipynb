{
 "cells": [
  {
   "cell_type": "markdown",
   "metadata": {},
   "source": [
    "# 02-Automap_renderer\n",
    "\n",
    "This project will have 3 files:\n",
    "- readWad.py - read data from the WAD file\n",
    "- main2d.py - render the automap\n",
    "- main.py - 3d renderer\n",
    "\n",
    "Create a readWad.py file\n",
    "\n",
    "Import the following modules:"
   ]
  },
  {
   "cell_type": "code",
   "execution_count": null,
   "metadata": {},
   "outputs": [],
   "source": [
    "import struct\n",
    "import sys"
   ]
  },
  {
   "cell_type": "markdown",
   "metadata": {},
   "source": [
    "\n",
    "Struct is useful for reading binary data.\n",
    "Sys is used to get the filename from the command line.\n",
    "\n",
    "Let's setup basic logic to get the WAD file and the map name from the command line."
   ]
  },
  {
   "cell_type": "code",
   "execution_count": null,
   "metadata": {},
   "outputs": [],
   "source": [
    "wadPath = \"\"\n",
    "\n",
    "if len(sys.argv) > 1:\n",
    "    wadPath = sys.argv[1]\n",
    "else:\n",
    "    print(\"\\nNo IWAD specified\\n\")\n",
    "    exit()\n",
    "\n",
    "wadFile = open(wadPath, \"rb\")\n",
    "\n",
    "mapName = input(\"What level? (ex: e1m1)\\n\")"
   ]
  },
  {
   "cell_type": "markdown",
   "metadata": {},
   "source": [
    "Lets setup some basic functions to read bytes from the WAD file."
   ]
  },
  {
   "cell_type": "code",
   "execution_count": null,
   "metadata": {},
   "outputs": [],
   "source": [
    "def read1byte(offset = 0):\n",
    "    wadFile.seek(offset)\n",
    "    return struct.unpack(\"<B\", wadFile.read(1))[0]\n",
    "\n",
    "def read2bytes(offset = 0):\n",
    "    wadFile.seek(offset)\n",
    "    return struct.unpack(\"<H\", wadFile.read(2))[0]\n",
    "\n",
    "def read4bytes(offset = 0):\n",
    "    wadFile.seek(offset)\n",
    "    return struct.unpack(\"<I\", wadFile.read(4))[0]\n",
    "\n",
    "def read8bytes(offset = 0):\n",
    "        wadFile.seek(offset)\n",
    "        c = ''\n",
    "        for i in range(0, 8):\n",
    "            c += str(struct.unpack('<c', wadFile.read(1))[0], \"ascii\")\n",
    "        return c"
   ]
  },
  {
   "cell_type": "markdown",
   "metadata": {},
   "source": [
    "At the start of WAD file there is always a header.\n",
    "```\n",
    "Position\t| Length  |\tName\t        | Description\n",
    "0x00\t    | 4\t      | identification\t| The ASCII characters \"IWAD\" or \"PWAD\".\n",
    "0x04\t    | 4\t      | numlumps\t    | An integer specifying the number of lumps in the WAD.\n",
    "0x08\t    | 4\t      | infotableofs\t| An integer holding a pointer to the location of the directory.\n",
    "```\n",
    "\n",
    "You can print the WAD type by reading the first 4 bytes of the file"
   ]
  },
  {
   "cell_type": "code",
   "execution_count": null,
   "metadata": {},
   "outputs": [],
   "source": [
    "print(\"WAD type: \" + str(read4bytes(0)))"
   ]
  }
 ],
 "metadata": {
  "interpreter": {
   "hash": "b0fa6594d8f4cbf19f97940f81e996739fb7646882a419484c72d19e05852a7e"
  },
  "kernelspec": {
   "display_name": "Python 3.9.9 64-bit",
   "language": "python",
   "name": "python3"
  },
  "language_info": {
   "name": "python",
   "version": "3.9.9"
  },
  "orig_nbformat": 4
 },
 "nbformat": 4,
 "nbformat_minor": 2
}
